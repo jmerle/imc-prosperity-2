{
 "cells": [
  {
   "cell_type": "code",
   "execution_count": 6,
   "metadata": {},
   "outputs": [],
   "source": [
    "from prosperity2bt.data import read_day_data\n",
    "from prosperity2bt.datamodel import Order\n",
    "from prosperity2bt.file_reader import PackageResourcesReader\n",
    "from prosperity2bt.runner import run_backtest"
   ]
  },
  {
   "cell_type": "code",
   "execution_count": 4,
   "metadata": {},
   "outputs": [],
   "source": [
    "class Trader:\n",
    "    def run(self, state):\n",
    "        orders = {}\n",
    "        conversions = 0\n",
    "        trader_data = \"\"\n",
    "\n",
    "        symbol = \"CHOCOLATE\"\n",
    "        limit = 250\n",
    "        \n",
    "        order_depth = state.order_depths[symbol]\n",
    "        price = max(order_depth.buy_orders.keys())\n",
    "\n",
    "        position = state.position.get(symbol, 0)\n",
    "        quantity = limit + position\n",
    "\n",
    "        orders[\"CHOCOLATE\"] = [Order(\"CHOCOLATE\", price, quantity)]\n",
    "\n",
    "        return orders, conversions, trader_data\n",
    "\n",
    "trader = Trader()"
   ]
  },
  {
   "cell_type": "code",
   "execution_count": 10,
   "metadata": {},
   "outputs": [
    {
     "data": {
      "text/plain": [
       "[ActivityLogRow(columns=[2, 999700, 'ROSES', 14411, 65, '', '', '', '', 14412, 65, '', '', '', '', 14411.5, 0]),\n",
       " ActivityLogRow(columns=[2, 999700, 'STRAWBERRIES', 3984, 65, 3983, 123, '', '', 3985, 188, '', '', '', '', 3984.5, 0]),\n",
       " ActivityLogRow(columns=[2, 999800, 'CHOCOLATE', 7749, 126, '', '', '', '', 7751, 126, '', '', '', '', 7750.0, -1104.0]),\n",
       " ActivityLogRow(columns=[2, 999800, 'GIFT_BASKET', 69537, 2, 69536, 18, 69535, 24, 69547, 2, 69548, 18, 69550, 24, 69542.0, 0]),\n",
       " ActivityLogRow(columns=[2, 999800, 'ROSES', 14412, 67, '', '', '', '', 14413, 24, 14414, 43, '', '', 14412.5, 0]),\n",
       " ActivityLogRow(columns=[2, 999800, 'STRAWBERRIES', 3984, 261, '', '', '', '', 3985, 261, '', '', '', '', 3984.5, 0]),\n",
       " ActivityLogRow(columns=[2, 999900, 'CHOCOLATE', 7749, 143, '', '', '', '', 7751, 143, '', '', '', '', 7750.0, -1104.0]),\n",
       " ActivityLogRow(columns=[2, 999900, 'GIFT_BASKET', 69551, 1, 69550, 19, 69549, 20, 69561, 1, 69562, 19, 69564, 20, 69556.0, 0]),\n",
       " ActivityLogRow(columns=[2, 999900, 'ROSES', 14411, 59, '', '', '', '', 14412, 59, '', '', '', '', 14411.5, 0]),\n",
       " ActivityLogRow(columns=[2, 999900, 'STRAWBERRIES', 3984, 240, '', '', '', '', 3985, 92, 3986, 148, '', '', 3984.5, 0])]"
      ]
     },
     "execution_count": 10,
     "metadata": {},
     "output_type": "execute_result"
    }
   ],
   "source": [
    "file_reader = PackageResourcesReader()\n",
    "data = read_day_data(file_reader, round_num=3, day_num=2)\n",
    "\n",
    "result = run_backtest(trader, data, print_output=False, disable_trades_matching=False)\n",
    "result.activity_logs[-10:]"
   ]
  }
 ],
 "metadata": {
  "kernelspec": {
   "display_name": "imc-prosperity-2",
   "language": "python",
   "name": "python3"
  },
  "language_info": {
   "codemirror_mode": {
    "name": "ipython",
    "version": 3
   },
   "file_extension": ".py",
   "mimetype": "text/x-python",
   "name": "python",
   "nbconvert_exporter": "python",
   "pygments_lexer": "ipython3",
   "version": "3.12.2"
  }
 },
 "nbformat": 4,
 "nbformat_minor": 2
}
