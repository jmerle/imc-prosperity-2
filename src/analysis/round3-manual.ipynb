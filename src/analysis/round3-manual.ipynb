{
 "cells": [
  {
   "cell_type": "code",
   "execution_count": 1,
   "metadata": {},
   "outputs": [],
   "source": [
    "import numpy as np"
   ]
  },
  {
   "cell_type": "code",
   "execution_count": 13,
   "metadata": {},
   "outputs": [
    {
     "name": "stdout",
     "output_type": "stream",
     "text": [
      "Multipliers:\n",
      " 24  70  41  21  60\n",
      " 47  82  87  80  35\n",
      " 73  89 100  90  17\n",
      " 77  83  85  79  55\n",
      " 12  27  52  15  30\n",
      "\n",
      "Available shells:\n",
      "180,000 525,000 307,500 157,500 450,000\n",
      "352,500 615,000 652,500 600,000 262,500\n",
      "547,500 667,500 750,000 675,000 127,500\n",
      "577,500 622,500 637,500 592,500 412,500\n",
      " 90,000 202,500 390,000 112,500 225,000\n",
      "\n",
      "Available shells ranking:\n",
      " 4 13  8  3 12\n",
      " 9 18 21 17  7\n",
      "14 22 24 23  2\n",
      "15 19 20 16 11\n",
      " 0  5 10  1  6\n",
      "\n",
      "Expected shells:\n",
      "58,804 57,514 55,265 56,335 54,585\n",
      "57,838 54,964 56,099 54,484 52,150\n",
      "58,285 56,529 47,526 48,573 52,209\n",
      "53,735 55,198 55,655 54,239 52,871\n",
      "45,000 46,807 51,747 49,663 49,003\n",
      "\n",
      "Expected shells ranking:\n",
      "24 21 16 19 13\n",
      "22 14 18 12  7\n",
      "23 20  2  3  8\n",
      "10 15 17 11  9\n",
      " 0  1  6  5  4\n"
     ]
    }
   ],
   "source": [
    "multipliers = np.array([\n",
    "    24, 70, 41, 21, 60,\n",
    "    47, 82, 87, 80, 35,\n",
    "    73, 89,100, 90, 17,\n",
    "    77, 83, 85, 79, 55,\n",
    "    12, 27, 52, 15, 30,\n",
    "])\n",
    "\n",
    "hunters = np.array([\n",
    "    2, 4, 3, 2, 4,\n",
    "    3, 5, 5, 5, 3,\n",
    "    4, 5, 8, 7, 2,\n",
    "    5, 5, 5, 5, 4,\n",
    "    2, 3, 4, 2, 3,\n",
    "])\n",
    "\n",
    "# The magic sauce is to perfectly estimate this array\n",
    "expeditions = multipliers - multipliers.min()\n",
    "# expeditions = np.maximum(np.zeros(multipliers.shape), multipliers - 20) / 10\n",
    "\n",
    "available_shells = multipliers * 7500\n",
    "expected_shells = available_shells / (hunters + (expeditions / expeditions.sum() * 100))\n",
    "\n",
    "print(\"Multipliers:\")\n",
    "for row in multipliers.reshape(5, 5):\n",
    "    print(\" \".join(f\"{value:3,.0f}\" for value in row))\n",
    "\n",
    "print(\"\\nAvailable shells:\")\n",
    "for row in available_shells.reshape(5, 5):\n",
    "    print(\" \".join(f\"{value:7,.0f}\" for value in row))\n",
    "\n",
    "print(\"\\nAvailable shells ranking:\")\n",
    "for row in available_shells.argsort().argsort().reshape(5, 5):\n",
    "    print(\" \".join(f\"{value:2,.0f}\" for value in row))\n",
    "\n",
    "print(\"\\nExpected shells:\")\n",
    "for row in expected_shells.reshape(5, 5):\n",
    "    print(\" \".join(f\"{value:,.0f}\" for value in row))\n",
    "\n",
    "print(\"\\nExpected shells ranking:\")\n",
    "for row in expected_shells.argsort().argsort().reshape(5, 5):\n",
    "    print(\" \".join(f\"{value:2,.0f}\" for value in row))"
   ]
  }
 ],
 "metadata": {
  "kernelspec": {
   "display_name": "imc-prosperity-2",
   "language": "python",
   "name": "python3"
  },
  "language_info": {
   "codemirror_mode": {
    "name": "ipython",
    "version": 3
   },
   "file_extension": ".py",
   "mimetype": "text/x-python",
   "name": "python",
   "nbconvert_exporter": "python",
   "pygments_lexer": "ipython3",
   "version": "3.12.2"
  }
 },
 "nbformat": 4,
 "nbformat_minor": 2
}
