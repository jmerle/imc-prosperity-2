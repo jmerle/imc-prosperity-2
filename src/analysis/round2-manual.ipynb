{
 "cells": [
  {
   "cell_type": "code",
   "execution_count": 1,
   "metadata": {},
   "outputs": [],
   "source": [
    "from enum import IntEnum\n",
    "from itertools import product"
   ]
  },
  {
   "cell_type": "code",
   "execution_count": 2,
   "metadata": {},
   "outputs": [
    {
     "data": {
      "text/plain": [
       "0.46"
      ]
     },
     "execution_count": 2,
     "metadata": {},
     "output_type": "execute_result"
    }
   ],
   "source": [
    "class Currency(IntEnum):\n",
    "    PIZZA = 0\n",
    "    WASABI = 1\n",
    "    SNOWBALL = 2\n",
    "    SHELL = 3\n",
    "\n",
    "options = [Currency.PIZZA, Currency.WASABI, Currency.SNOWBALL, Currency.SHELL]\n",
    "\n",
    "# rates[from][to] = <exchange rate>\n",
    "rates = [\n",
    "    [1.00, 0.48, 1.52, 0.71],\n",
    "    [2.05, 1.00, 3.26, 1.56],\n",
    "    [0.64, 0.30, 1.00, 0.46],\n",
    "    [1.41, 0.61, 2.08, 1.00],\n",
    "]\n",
    "\n",
    "rates[Currency.SNOWBALL][Currency.SHELL]"
   ]
  },
  {
   "cell_type": "code",
   "execution_count": 3,
   "metadata": {},
   "outputs": [
    {
     "name": "stdout",
     "output_type": "stream",
     "text": [
      "1: (<Currency.PIZZA: 0>,) -> 2,002,200.0\n",
      "2: (<Currency.PIZZA: 0>, <Currency.WASABI: 1>) -> 2,111,616.0\n",
      "3: (<Currency.PIZZA: 0>, <Currency.PIZZA: 0>, <Currency.WASABI: 1>) -> 2,111,616.0\n",
      "4: (<Currency.PIZZA: 0>, <Currency.WASABI: 1>, <Currency.SHELL: 3>, <Currency.PIZZA: 0>) -> 2,113,938.8\n"
     ]
    }
   ],
   "source": [
    "def get_final_capital(strategy: list[Currency]) -> None:\n",
    "    current_currency = Currency.SHELL\n",
    "    capital = 2_000_000\n",
    "\n",
    "    for currency in strategy:\n",
    "        capital *= rates[current_currency][currency]\n",
    "        current_currency = currency\n",
    "\n",
    "    return capital * rates[current_currency][Currency.SHELL]\n",
    "\n",
    "def find_best_strategy(no_choices: int) -> list[Currency]:\n",
    "    strategies = product(*[options for _ in range(no_choices)])\n",
    "    return max(strategies, key=get_final_capital)\n",
    "\n",
    "for i in range(1, 5):\n",
    "    strategy = find_best_strategy(i)\n",
    "    final_capital = get_final_capital(strategy)\n",
    "\n",
    "    print(f\"{i}: {strategy} -> {final_capital:,.1f}\")"
   ]
  }
 ],
 "metadata": {
  "kernelspec": {
   "display_name": "imc-prosperity-2",
   "language": "python",
   "name": "python3"
  },
  "language_info": {
   "codemirror_mode": {
    "name": "ipython",
    "version": 3
   },
   "file_extension": ".py",
   "mimetype": "text/x-python",
   "name": "python",
   "nbconvert_exporter": "python",
   "pygments_lexer": "ipython3",
   "version": "3.12.2"
  }
 },
 "nbformat": 4,
 "nbformat_minor": 2
}
