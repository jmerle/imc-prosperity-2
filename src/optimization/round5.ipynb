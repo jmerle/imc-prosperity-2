{
 "cells": [
  {
   "cell_type": "code",
   "execution_count": 1,
   "metadata": {},
   "outputs": [],
   "source": [
    "import json\n",
    "from pathlib import Path"
   ]
  },
  {
   "cell_type": "code",
   "execution_count": 4,
   "metadata": {},
   "outputs": [],
   "source": [
    "with (Path.cwd() / \"round5.json\").open(\"r\", encoding=\"utf-8\") as file:\n",
    "    results = json.load(file)"
   ]
  },
  {
   "cell_type": "code",
   "execution_count": 13,
   "metadata": {},
   "outputs": [
    {
     "name": "stdout",
     "output_type": "stream",
     "text": [
      "AMETHYSTS Raj Vinnie Raj Vinnie 0 0\n",
      "STARFRUIT Rhianna Vinnie Amelia Ruby 2480.0 -320.0\n",
      "ORCHIDS Adam Remy Adam Remy 0 0\n",
      "CHOCOLATE Vladimir Remy Vinnie Remy 71038.0 -16071.0\n",
      "STRAWBERRIES Remy Vladimir Vladimir Remy 18223.0 -14804.0\n",
      "ROSES Rhianna Vinnie Vinnie Rhianna 88875.0 -420.0\n",
      "GIFT_BASKET Vladimir Vinnie Vladimir Rhianna 121342.0 -42218.0\n",
      "COCONUT Raj Vinnie Vinnie Rhianna 48792.0 -21039.0\n",
      "COCONUT_COUPON Rhianna Valentina Vinnie Rhianna 120580.0 -23623.0\n"
     ]
    }
   ],
   "source": [
    "products = list({\n",
    "    \"AMETHYSTS\": 20,\n",
    "    \"STARFRUIT\": 20,\n",
    "    \"ORCHIDS\": 100,\n",
    "    \"CHOCOLATE\": 250,\n",
    "    \"STRAWBERRIES\": 350,\n",
    "    \"ROSES\": 60,\n",
    "    \"GIFT_BASKET\": 60,\n",
    "    \"COCONUT\": 300,\n",
    "    \"COCONUT_COUPON\": 600,\n",
    "}.keys())\n",
    "\n",
    "for product in products:\n",
    "    result = max(results, key=lambda r: r[f\"total_{product}_pnl\"])\n",
    "    print(product, result[\"buyer1\"], result[\"seller1\"], result[\"buyer2\"], result[\"seller2\"], result[f\"total_{product}_pnl\"], result[f\"{product}_min\"])"
   ]
  }
 ],
 "metadata": {
  "kernelspec": {
   "display_name": "imc-prosperity-2",
   "language": "python",
   "name": "python3"
  },
  "language_info": {
   "codemirror_mode": {
    "name": "ipython",
    "version": 3
   },
   "file_extension": ".py",
   "mimetype": "text/x-python",
   "name": "python",
   "nbconvert_exporter": "python",
   "pygments_lexer": "ipython3",
   "version": "3.12.2"
  }
 },
 "nbformat": 4,
 "nbformat_minor": 2
}
