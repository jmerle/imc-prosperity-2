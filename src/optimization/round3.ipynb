{
 "cells": [
  {
   "cell_type": "code",
   "execution_count": 1,
   "metadata": {},
   "outputs": [],
   "source": [
    "import json\n",
    "from pathlib import Path"
   ]
  },
  {
   "cell_type": "code",
   "execution_count": 2,
   "metadata": {},
   "outputs": [
    {
     "name": "stdout",
     "output_type": "stream",
     "text": [
      "Overall:\n",
      "1. 325 - 0.12 - 493,343\n",
      "2. 315 - 0.16 - 489,062\n",
      "3. 325 - 0.13 - 485,455\n",
      "CHOCOLATE:\n",
      "1. 285 - 0.19 - 393,105\n",
      "2. 285 - 0.18 - 386,788\n",
      "3. 280 - 0.21 - 392,941\n",
      "STRAWBERRIES:\n",
      "1. 340 - 0.43 - 379,162\n",
      "2. 340 - 0.42 - 375,576\n",
      "3. 345 - 0.43 - 373,004\n",
      "ROSES:\n",
      "1. 350 - 0.05 - 314,155\n",
      "2. 350 - 0.06 - 337,213\n",
      "3. 335 - 0.13 - 453,142\n",
      "GIFT_BASKET:\n",
      "1. 325 - 0.12 - 493,343\n",
      "2. 325 - 0.10 - 478,525\n",
      "3. 320 - 0.11 - 472,822\n"
     ]
    }
   ],
   "source": [
    "with (Path.cwd() / \"round3-premium-threshold.json\").open(\"r\", encoding=\"utf-8\") as file:\n",
    "    results = json.load(file)\n",
    "\n",
    "def print_results(label, func) -> None:\n",
    "    sorted_results = sorted(results, key=func, reverse=True)\n",
    "\n",
    "    print(f\"{label}:\")\n",
    "    for i, result in enumerate(sorted_results[:3]):\n",
    "        print(f\"{i + 1}. {result['gift_basket_premium']:,.0f} - {result['threshold']:,.2f} - {result['total_pnl']:,.0f}\")\n",
    "\n",
    "print_results(\"Overall\", lambda r: r[\"total_pnl\"])\n",
    "\n",
    "for product in [\"CHOCOLATE\", \"STRAWBERRIES\", \"ROSES\", \"GIFT_BASKET\"]:\n",
    "    print_results(product, lambda r: r[f\"total_{product}_pnl\"])"
   ]
  },
  {
   "cell_type": "code",
   "execution_count": 39,
   "metadata": {},
   "outputs": [
    {
     "name": "stdout",
     "output_type": "stream",
     "text": [
      "Overall:\n",
      "1. 260 - 365 - total_pnl: 489,712\n",
      "2. 285 - 360 - total_pnl: 489,258\n",
      "3. 265 - 365 - total_pnl: 489,062\n",
      "4. 280 - 365 - total_pnl: 487,318\n",
      "5. 260 - 355 - total_pnl: 485,191\n",
      "Overall 2:\n",
      "1. 260 - 355 - total_pnl: 485,191\n",
      "2. 195 - 390 - total_pnl: 478,258\n",
      "3. 195 - 395 - total_pnl: 477,657\n",
      "4. 260 - 365 - total_pnl: 489,712\n",
      "5. 270 - 345 - total_pnl: 443,235\n",
      "CHOCOLATE:\n",
      "1. 230 - 340 - CHOCOLATE_min: -12,942\n",
      "2. 230 - 335 - CHOCOLATE_min: -12,942\n",
      "3. 230 - 370 - CHOCOLATE_min: -13,337\n",
      "4. 230 - 355 - CHOCOLATE_min: -12,637\n",
      "5. 230 - 365 - CHOCOLATE_min: -13,337\n",
      "STRAWBERRIES:\n",
      "1. 195 - 490 - STRAWBERRIES_min: -10,500\n",
      "2. 195 - 485 - STRAWBERRIES_min: -10,067\n",
      "3. 200 - 485 - STRAWBERRIES_min: -10,067\n",
      "4. 200 - 490 - STRAWBERRIES_min: -10,500\n",
      "5. 195 - 470 - STRAWBERRIES_min: -10,067\n",
      "ROSES:\n",
      "1. 295 - 360 - ROSES_min: -14,701\n",
      "2. 290 - 385 - ROSES_min: -17,156\n",
      "3. 325 - 370 - ROSES_min: -9,515\n",
      "4. 300 - 360 - ROSES_min: -9,552\n",
      "5. 295 - 385 - ROSES_min: -16,122\n",
      "GIFT_BASKET:\n",
      "1. 290 - 355 - GIFT_BASKET_min: -15,924\n",
      "2. 285 - 360 - GIFT_BASKET_min: -15,924\n",
      "3. 290 - 360 - GIFT_BASKET_min: -15,924\n",
      "4. 285 - 355 - GIFT_BASKET_min: -15,924\n",
      "5. 290 - 390 - GIFT_BASKET_min: -19,100\n"
     ]
    }
   ],
   "source": [
    "with (Path.cwd() / \"round3-long-short-threshold.json\").open(\"r\", encoding=\"utf-8\") as file:\n",
    "    results = json.load(file)\n",
    "\n",
    "def print_results(label, func, metric) -> None:\n",
    "    sorted_results = sorted(results, key=func, reverse=True)\n",
    "\n",
    "    print(f\"{label}:\")\n",
    "    for i, result in enumerate(sorted_results[:5]):\n",
    "        print(f\"{i + 1}. {result['long_threshold']:,.0f} - {result['short_threshold']:,.0f} - {metric}: {result[metric]:,.0f}\")\n",
    "\n",
    "print_results(\"Overall\", lambda r: r[\"total_pnl\"], \"total_pnl\")\n",
    "print_results(\"Overall 2\", lambda r: min([r[f\"day{i}_pnl\"] for i in range(3)]), \"total_pnl\")\n",
    "\n",
    "for product in [\"CHOCOLATE\", \"STRAWBERRIES\", \"ROSES\", \"GIFT_BASKET\"]:\n",
    "    print_results(product, lambda r: r[f\"total_{product}_pnl\"], f\"{product}_min\")"
   ]
  }
 ],
 "metadata": {
  "kernelspec": {
   "display_name": "imc-prosperity-2",
   "language": "python",
   "name": "python3"
  },
  "language_info": {
   "codemirror_mode": {
    "name": "ipython",
    "version": 3
   },
   "file_extension": ".py",
   "mimetype": "text/x-python",
   "name": "python",
   "nbconvert_exporter": "python",
   "pygments_lexer": "ipython3",
   "version": "3.12.2"
  }
 },
 "nbformat": 4,
 "nbformat_minor": 2
}
